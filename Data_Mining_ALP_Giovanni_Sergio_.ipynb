{
  "cells": [
    {
      "cell_type": "markdown",
      "metadata": {
        "id": "jY8PM2Qr5NcB"
      },
      "source": [
        "### ALP Data Mining\n",
        "\n",
        "Bernadus Sergio Halim - 0706022210056\n",
        "\n",
        "Gio Vanni Elbert Wisman - 0706022210034"
      ]
    },
    {
      "cell_type": "markdown",
      "metadata": {
        "id": "BAwSspLL4v9O"
      },
      "source": [
        "### Import Library\n"
      ]
    },
    {
      "cell_type": "markdown",
      "metadata": {
        "id": "0nTWjVYP5L23"
      },
      "source": [
        "Import the necessary libraries"
      ]
    },
    {
      "cell_type": "code",
      "execution_count": 5,
      "metadata": {
        "id": "bBELvYjo2O2B"
      },
      "outputs": [],
      "source": [
        "import pandas as pd\n",
        "import numpy as np\n",
        "from scipy.stats import zscore\n",
        "import matplotlib.pyplot as plt\n",
        "import seaborn as sns"
      ]
    },
    {
      "cell_type": "markdown",
      "metadata": {
        "id": "jz4AhGkX5YwR"
      },
      "source": [
        "### Load Dataset"
      ]
    },
    {
      "cell_type": "code",
      "execution_count": 6,
      "metadata": {
        "colab": {
          "base_uri": "https://localhost:8080/",
          "height": 1000
        },
        "id": "D4OdnmTh2Tb9",
        "outputId": "6ae0f36e-6433-4ac9-930c-f7a042a7a0fa"
      },
      "outputs": [
        {
          "output_type": "execute_result",
          "data": {
            "text/plain": [
              "       Row ID        Order ID  Order Date   Ship Date       Ship Mode  \\\n",
              "0           1  US-2021-103800  03-01-2021  07-01-2021  Standard Class   \n",
              "1           2  US-2021-112326  04-01-2021  08-01-2021  Standard Class   \n",
              "2           3  US-2021-112326  04-01-2021  08-01-2021  Standard Class   \n",
              "3           4  US-2021-112326  04-01-2021  08-01-2021  Standard Class   \n",
              "4           5  US-2021-141817  05-01-2021  12-01-2021  Standard Class   \n",
              "...       ...             ...         ...         ...             ...   \n",
              "10189   10190  US-2024-143259  30-12-2024  03-01-2025  Standard Class   \n",
              "10190   10191  US-2024-115427  30-12-2024  03-01-2025  Standard Class   \n",
              "10191   10192  US-2024-156720  30-12-2024  03-01-2025  Standard Class   \n",
              "10192   10193  US-2024-143259  30-12-2024  03-01-2025  Standard Class   \n",
              "10193   10194  CA-2024-143500  30-12-2024  03-01-2025  Standard Class   \n",
              "\n",
              "      Customer ID      Customer Name      Segment Country/Region  \\\n",
              "0        DP-13000      Darren Powers     Consumer  United States   \n",
              "1        PO-19195      Phillina Ober  Home Office  United States   \n",
              "2        PO-19195      Phillina Ober  Home Office  United States   \n",
              "3        PO-19195      Phillina Ober  Home Office  United States   \n",
              "4        MB-18085         Mick Brown     Consumer  United States   \n",
              "...           ...                ...          ...            ...   \n",
              "10189    PO-18865  Patrick O'Donnell     Consumer  United States   \n",
              "10190    EB-13975         Erica Bern    Corporate  United States   \n",
              "10191    JM-15580      Jill Matthias     Consumer  United States   \n",
              "10192    PO-18865  Patrick O'Donnell     Consumer  United States   \n",
              "10193    HO-15230        Harry Olson     Consumer         Canada   \n",
              "\n",
              "                City  ... Postal Code   Region       Product ID  \\\n",
              "0            Houston  ...       77095  Central  OFF-PA-10000174   \n",
              "1         Naperville  ...       60540  Central  OFF-BI-10004094   \n",
              "2         Naperville  ...       60540  Central  OFF-LA-10003223   \n",
              "3         Naperville  ...       60540  Central  OFF-ST-10002743   \n",
              "4       Philadelphia  ...       19143     East  OFF-AR-10003478   \n",
              "...              ...  ...         ...      ...              ...   \n",
              "10189  New York City  ...       10009     East  OFF-BI-10003684   \n",
              "10190      Fairfield  ...       94533     West  OFF-BI-10004632   \n",
              "10191       Loveland  ...       80538     West  OFF-FA-10003472   \n",
              "10192  New York City  ...       10009     East  TEC-PH-10004774   \n",
              "10193  Charlottetown  ...         C0A     East  OFF-BI-10004040   \n",
              "\n",
              "              Category Sub-Category  \\\n",
              "0      Office Supplies        Paper   \n",
              "1      Office Supplies      Binders   \n",
              "2      Office Supplies       Labels   \n",
              "3      Office Supplies      Storage   \n",
              "4      Office Supplies          Art   \n",
              "...                ...          ...   \n",
              "10189  Office Supplies      Binders   \n",
              "10190  Office Supplies      Binders   \n",
              "10191  Office Supplies    Fasteners   \n",
              "10192       Technology       Phones   \n",
              "10193  Office Supplies      Binders   \n",
              "\n",
              "                                            Product Name    Sales  Quantity  \\\n",
              "0      Message Book, Wirebound, Four 5 1/2\" X 4\" Form...   16.448         2   \n",
              "1             GBC Standard Plastic Binding Systems Combs    3.540         2   \n",
              "2                                              Avery 508   11.784         3   \n",
              "3                          SAFCO Boltless Steel Shelving  272.736         3   \n",
              "4      Avery Hi-Liter EverBold Pen Style Fluorescent ...   19.536         3   \n",
              "...                                                  ...      ...       ...   \n",
              "10189               Wilson Jones Legal Size Ring Binders   52.776         3   \n",
              "10190                                 GBC Binding covers   20.720         2   \n",
              "10191                                Bagged Rubber Bands    3.024         3   \n",
              "10192                          Gear Head AU3700S Headset   90.930         7   \n",
              "10193                        Wilson Jones Impact Binders    3.024         3   \n",
              "\n",
              "       Discount   Profit  \n",
              "0           0.2   5.5512  \n",
              "1           0.8  -5.4870  \n",
              "2           0.2   4.2717  \n",
              "3           0.2 -64.7748  \n",
              "4           0.2   4.8840  \n",
              "...         ...      ...  \n",
              "10189       0.2  19.7910  \n",
              "10190       0.2   6.4750  \n",
              "10191       0.2  -0.6048  \n",
              "10192       0.0   2.7279  \n",
              "10193       0.2  -0.6048  \n",
              "\n",
              "[10194 rows x 21 columns]"
            ],
            "text/html": [
              "\n",
              "  <div id=\"df-2607ce1d-af08-4c7a-8029-ea76f5a87a8b\" class=\"colab-df-container\">\n",
              "    <div>\n",
              "<style scoped>\n",
              "    .dataframe tbody tr th:only-of-type {\n",
              "        vertical-align: middle;\n",
              "    }\n",
              "\n",
              "    .dataframe tbody tr th {\n",
              "        vertical-align: top;\n",
              "    }\n",
              "\n",
              "    .dataframe thead th {\n",
              "        text-align: right;\n",
              "    }\n",
              "</style>\n",
              "<table border=\"1\" class=\"dataframe\">\n",
              "  <thead>\n",
              "    <tr style=\"text-align: right;\">\n",
              "      <th></th>\n",
              "      <th>Row ID</th>\n",
              "      <th>Order ID</th>\n",
              "      <th>Order Date</th>\n",
              "      <th>Ship Date</th>\n",
              "      <th>Ship Mode</th>\n",
              "      <th>Customer ID</th>\n",
              "      <th>Customer Name</th>\n",
              "      <th>Segment</th>\n",
              "      <th>Country/Region</th>\n",
              "      <th>City</th>\n",
              "      <th>...</th>\n",
              "      <th>Postal Code</th>\n",
              "      <th>Region</th>\n",
              "      <th>Product ID</th>\n",
              "      <th>Category</th>\n",
              "      <th>Sub-Category</th>\n",
              "      <th>Product Name</th>\n",
              "      <th>Sales</th>\n",
              "      <th>Quantity</th>\n",
              "      <th>Discount</th>\n",
              "      <th>Profit</th>\n",
              "    </tr>\n",
              "  </thead>\n",
              "  <tbody>\n",
              "    <tr>\n",
              "      <th>0</th>\n",
              "      <td>1</td>\n",
              "      <td>US-2021-103800</td>\n",
              "      <td>03-01-2021</td>\n",
              "      <td>07-01-2021</td>\n",
              "      <td>Standard Class</td>\n",
              "      <td>DP-13000</td>\n",
              "      <td>Darren Powers</td>\n",
              "      <td>Consumer</td>\n",
              "      <td>United States</td>\n",
              "      <td>Houston</td>\n",
              "      <td>...</td>\n",
              "      <td>77095</td>\n",
              "      <td>Central</td>\n",
              "      <td>OFF-PA-10000174</td>\n",
              "      <td>Office Supplies</td>\n",
              "      <td>Paper</td>\n",
              "      <td>Message Book, Wirebound, Four 5 1/2\" X 4\" Form...</td>\n",
              "      <td>16.448</td>\n",
              "      <td>2</td>\n",
              "      <td>0.2</td>\n",
              "      <td>5.5512</td>\n",
              "    </tr>\n",
              "    <tr>\n",
              "      <th>1</th>\n",
              "      <td>2</td>\n",
              "      <td>US-2021-112326</td>\n",
              "      <td>04-01-2021</td>\n",
              "      <td>08-01-2021</td>\n",
              "      <td>Standard Class</td>\n",
              "      <td>PO-19195</td>\n",
              "      <td>Phillina Ober</td>\n",
              "      <td>Home Office</td>\n",
              "      <td>United States</td>\n",
              "      <td>Naperville</td>\n",
              "      <td>...</td>\n",
              "      <td>60540</td>\n",
              "      <td>Central</td>\n",
              "      <td>OFF-BI-10004094</td>\n",
              "      <td>Office Supplies</td>\n",
              "      <td>Binders</td>\n",
              "      <td>GBC Standard Plastic Binding Systems Combs</td>\n",
              "      <td>3.540</td>\n",
              "      <td>2</td>\n",
              "      <td>0.8</td>\n",
              "      <td>-5.4870</td>\n",
              "    </tr>\n",
              "    <tr>\n",
              "      <th>2</th>\n",
              "      <td>3</td>\n",
              "      <td>US-2021-112326</td>\n",
              "      <td>04-01-2021</td>\n",
              "      <td>08-01-2021</td>\n",
              "      <td>Standard Class</td>\n",
              "      <td>PO-19195</td>\n",
              "      <td>Phillina Ober</td>\n",
              "      <td>Home Office</td>\n",
              "      <td>United States</td>\n",
              "      <td>Naperville</td>\n",
              "      <td>...</td>\n",
              "      <td>60540</td>\n",
              "      <td>Central</td>\n",
              "      <td>OFF-LA-10003223</td>\n",
              "      <td>Office Supplies</td>\n",
              "      <td>Labels</td>\n",
              "      <td>Avery 508</td>\n",
              "      <td>11.784</td>\n",
              "      <td>3</td>\n",
              "      <td>0.2</td>\n",
              "      <td>4.2717</td>\n",
              "    </tr>\n",
              "    <tr>\n",
              "      <th>3</th>\n",
              "      <td>4</td>\n",
              "      <td>US-2021-112326</td>\n",
              "      <td>04-01-2021</td>\n",
              "      <td>08-01-2021</td>\n",
              "      <td>Standard Class</td>\n",
              "      <td>PO-19195</td>\n",
              "      <td>Phillina Ober</td>\n",
              "      <td>Home Office</td>\n",
              "      <td>United States</td>\n",
              "      <td>Naperville</td>\n",
              "      <td>...</td>\n",
              "      <td>60540</td>\n",
              "      <td>Central</td>\n",
              "      <td>OFF-ST-10002743</td>\n",
              "      <td>Office Supplies</td>\n",
              "      <td>Storage</td>\n",
              "      <td>SAFCO Boltless Steel Shelving</td>\n",
              "      <td>272.736</td>\n",
              "      <td>3</td>\n",
              "      <td>0.2</td>\n",
              "      <td>-64.7748</td>\n",
              "    </tr>\n",
              "    <tr>\n",
              "      <th>4</th>\n",
              "      <td>5</td>\n",
              "      <td>US-2021-141817</td>\n",
              "      <td>05-01-2021</td>\n",
              "      <td>12-01-2021</td>\n",
              "      <td>Standard Class</td>\n",
              "      <td>MB-18085</td>\n",
              "      <td>Mick Brown</td>\n",
              "      <td>Consumer</td>\n",
              "      <td>United States</td>\n",
              "      <td>Philadelphia</td>\n",
              "      <td>...</td>\n",
              "      <td>19143</td>\n",
              "      <td>East</td>\n",
              "      <td>OFF-AR-10003478</td>\n",
              "      <td>Office Supplies</td>\n",
              "      <td>Art</td>\n",
              "      <td>Avery Hi-Liter EverBold Pen Style Fluorescent ...</td>\n",
              "      <td>19.536</td>\n",
              "      <td>3</td>\n",
              "      <td>0.2</td>\n",
              "      <td>4.8840</td>\n",
              "    </tr>\n",
              "    <tr>\n",
              "      <th>...</th>\n",
              "      <td>...</td>\n",
              "      <td>...</td>\n",
              "      <td>...</td>\n",
              "      <td>...</td>\n",
              "      <td>...</td>\n",
              "      <td>...</td>\n",
              "      <td>...</td>\n",
              "      <td>...</td>\n",
              "      <td>...</td>\n",
              "      <td>...</td>\n",
              "      <td>...</td>\n",
              "      <td>...</td>\n",
              "      <td>...</td>\n",
              "      <td>...</td>\n",
              "      <td>...</td>\n",
              "      <td>...</td>\n",
              "      <td>...</td>\n",
              "      <td>...</td>\n",
              "      <td>...</td>\n",
              "      <td>...</td>\n",
              "      <td>...</td>\n",
              "    </tr>\n",
              "    <tr>\n",
              "      <th>10189</th>\n",
              "      <td>10190</td>\n",
              "      <td>US-2024-143259</td>\n",
              "      <td>30-12-2024</td>\n",
              "      <td>03-01-2025</td>\n",
              "      <td>Standard Class</td>\n",
              "      <td>PO-18865</td>\n",
              "      <td>Patrick O'Donnell</td>\n",
              "      <td>Consumer</td>\n",
              "      <td>United States</td>\n",
              "      <td>New York City</td>\n",
              "      <td>...</td>\n",
              "      <td>10009</td>\n",
              "      <td>East</td>\n",
              "      <td>OFF-BI-10003684</td>\n",
              "      <td>Office Supplies</td>\n",
              "      <td>Binders</td>\n",
              "      <td>Wilson Jones Legal Size Ring Binders</td>\n",
              "      <td>52.776</td>\n",
              "      <td>3</td>\n",
              "      <td>0.2</td>\n",
              "      <td>19.7910</td>\n",
              "    </tr>\n",
              "    <tr>\n",
              "      <th>10190</th>\n",
              "      <td>10191</td>\n",
              "      <td>US-2024-115427</td>\n",
              "      <td>30-12-2024</td>\n",
              "      <td>03-01-2025</td>\n",
              "      <td>Standard Class</td>\n",
              "      <td>EB-13975</td>\n",
              "      <td>Erica Bern</td>\n",
              "      <td>Corporate</td>\n",
              "      <td>United States</td>\n",
              "      <td>Fairfield</td>\n",
              "      <td>...</td>\n",
              "      <td>94533</td>\n",
              "      <td>West</td>\n",
              "      <td>OFF-BI-10004632</td>\n",
              "      <td>Office Supplies</td>\n",
              "      <td>Binders</td>\n",
              "      <td>GBC Binding covers</td>\n",
              "      <td>20.720</td>\n",
              "      <td>2</td>\n",
              "      <td>0.2</td>\n",
              "      <td>6.4750</td>\n",
              "    </tr>\n",
              "    <tr>\n",
              "      <th>10191</th>\n",
              "      <td>10192</td>\n",
              "      <td>US-2024-156720</td>\n",
              "      <td>30-12-2024</td>\n",
              "      <td>03-01-2025</td>\n",
              "      <td>Standard Class</td>\n",
              "      <td>JM-15580</td>\n",
              "      <td>Jill Matthias</td>\n",
              "      <td>Consumer</td>\n",
              "      <td>United States</td>\n",
              "      <td>Loveland</td>\n",
              "      <td>...</td>\n",
              "      <td>80538</td>\n",
              "      <td>West</td>\n",
              "      <td>OFF-FA-10003472</td>\n",
              "      <td>Office Supplies</td>\n",
              "      <td>Fasteners</td>\n",
              "      <td>Bagged Rubber Bands</td>\n",
              "      <td>3.024</td>\n",
              "      <td>3</td>\n",
              "      <td>0.2</td>\n",
              "      <td>-0.6048</td>\n",
              "    </tr>\n",
              "    <tr>\n",
              "      <th>10192</th>\n",
              "      <td>10193</td>\n",
              "      <td>US-2024-143259</td>\n",
              "      <td>30-12-2024</td>\n",
              "      <td>03-01-2025</td>\n",
              "      <td>Standard Class</td>\n",
              "      <td>PO-18865</td>\n",
              "      <td>Patrick O'Donnell</td>\n",
              "      <td>Consumer</td>\n",
              "      <td>United States</td>\n",
              "      <td>New York City</td>\n",
              "      <td>...</td>\n",
              "      <td>10009</td>\n",
              "      <td>East</td>\n",
              "      <td>TEC-PH-10004774</td>\n",
              "      <td>Technology</td>\n",
              "      <td>Phones</td>\n",
              "      <td>Gear Head AU3700S Headset</td>\n",
              "      <td>90.930</td>\n",
              "      <td>7</td>\n",
              "      <td>0.0</td>\n",
              "      <td>2.7279</td>\n",
              "    </tr>\n",
              "    <tr>\n",
              "      <th>10193</th>\n",
              "      <td>10194</td>\n",
              "      <td>CA-2024-143500</td>\n",
              "      <td>30-12-2024</td>\n",
              "      <td>03-01-2025</td>\n",
              "      <td>Standard Class</td>\n",
              "      <td>HO-15230</td>\n",
              "      <td>Harry Olson</td>\n",
              "      <td>Consumer</td>\n",
              "      <td>Canada</td>\n",
              "      <td>Charlottetown</td>\n",
              "      <td>...</td>\n",
              "      <td>C0A</td>\n",
              "      <td>East</td>\n",
              "      <td>OFF-BI-10004040</td>\n",
              "      <td>Office Supplies</td>\n",
              "      <td>Binders</td>\n",
              "      <td>Wilson Jones Impact Binders</td>\n",
              "      <td>3.024</td>\n",
              "      <td>3</td>\n",
              "      <td>0.2</td>\n",
              "      <td>-0.6048</td>\n",
              "    </tr>\n",
              "  </tbody>\n",
              "</table>\n",
              "<p>10194 rows × 21 columns</p>\n",
              "</div>\n",
              "    <div class=\"colab-df-buttons\">\n",
              "\n",
              "  <div class=\"colab-df-container\">\n",
              "    <button class=\"colab-df-convert\" onclick=\"convertToInteractive('df-2607ce1d-af08-4c7a-8029-ea76f5a87a8b')\"\n",
              "            title=\"Convert this dataframe to an interactive table.\"\n",
              "            style=\"display:none;\">\n",
              "\n",
              "  <svg xmlns=\"http://www.w3.org/2000/svg\" height=\"24px\" viewBox=\"0 -960 960 960\">\n",
              "    <path d=\"M120-120v-720h720v720H120Zm60-500h600v-160H180v160Zm220 220h160v-160H400v160Zm0 220h160v-160H400v160ZM180-400h160v-160H180v160Zm440 0h160v-160H620v160ZM180-180h160v-160H180v160Zm440 0h160v-160H620v160Z\"/>\n",
              "  </svg>\n",
              "    </button>\n",
              "\n",
              "  <style>\n",
              "    .colab-df-container {\n",
              "      display:flex;\n",
              "      gap: 12px;\n",
              "    }\n",
              "\n",
              "    .colab-df-convert {\n",
              "      background-color: #E8F0FE;\n",
              "      border: none;\n",
              "      border-radius: 50%;\n",
              "      cursor: pointer;\n",
              "      display: none;\n",
              "      fill: #1967D2;\n",
              "      height: 32px;\n",
              "      padding: 0 0 0 0;\n",
              "      width: 32px;\n",
              "    }\n",
              "\n",
              "    .colab-df-convert:hover {\n",
              "      background-color: #E2EBFA;\n",
              "      box-shadow: 0px 1px 2px rgba(60, 64, 67, 0.3), 0px 1px 3px 1px rgba(60, 64, 67, 0.15);\n",
              "      fill: #174EA6;\n",
              "    }\n",
              "\n",
              "    .colab-df-buttons div {\n",
              "      margin-bottom: 4px;\n",
              "    }\n",
              "\n",
              "    [theme=dark] .colab-df-convert {\n",
              "      background-color: #3B4455;\n",
              "      fill: #D2E3FC;\n",
              "    }\n",
              "\n",
              "    [theme=dark] .colab-df-convert:hover {\n",
              "      background-color: #434B5C;\n",
              "      box-shadow: 0px 1px 3px 1px rgba(0, 0, 0, 0.15);\n",
              "      filter: drop-shadow(0px 1px 2px rgba(0, 0, 0, 0.3));\n",
              "      fill: #FFFFFF;\n",
              "    }\n",
              "  </style>\n",
              "\n",
              "    <script>\n",
              "      const buttonEl =\n",
              "        document.querySelector('#df-2607ce1d-af08-4c7a-8029-ea76f5a87a8b button.colab-df-convert');\n",
              "      buttonEl.style.display =\n",
              "        google.colab.kernel.accessAllowed ? 'block' : 'none';\n",
              "\n",
              "      async function convertToInteractive(key) {\n",
              "        const element = document.querySelector('#df-2607ce1d-af08-4c7a-8029-ea76f5a87a8b');\n",
              "        const dataTable =\n",
              "          await google.colab.kernel.invokeFunction('convertToInteractive',\n",
              "                                                    [key], {});\n",
              "        if (!dataTable) return;\n",
              "\n",
              "        const docLinkHtml = 'Like what you see? Visit the ' +\n",
              "          '<a target=\"_blank\" href=https://colab.research.google.com/notebooks/data_table.ipynb>data table notebook</a>'\n",
              "          + ' to learn more about interactive tables.';\n",
              "        element.innerHTML = '';\n",
              "        dataTable['output_type'] = 'display_data';\n",
              "        await google.colab.output.renderOutput(dataTable, element);\n",
              "        const docLink = document.createElement('div');\n",
              "        docLink.innerHTML = docLinkHtml;\n",
              "        element.appendChild(docLink);\n",
              "      }\n",
              "    </script>\n",
              "  </div>\n",
              "\n",
              "\n",
              "<div id=\"df-fc334d0c-cba3-4625-a584-c0d7f3a5921a\">\n",
              "  <button class=\"colab-df-quickchart\" onclick=\"quickchart('df-fc334d0c-cba3-4625-a584-c0d7f3a5921a')\"\n",
              "            title=\"Suggest charts\"\n",
              "            style=\"display:none;\">\n",
              "\n",
              "<svg xmlns=\"http://www.w3.org/2000/svg\" height=\"24px\"viewBox=\"0 0 24 24\"\n",
              "     width=\"24px\">\n",
              "    <g>\n",
              "        <path d=\"M19 3H5c-1.1 0-2 .9-2 2v14c0 1.1.9 2 2 2h14c1.1 0 2-.9 2-2V5c0-1.1-.9-2-2-2zM9 17H7v-7h2v7zm4 0h-2V7h2v10zm4 0h-2v-4h2v4z\"/>\n",
              "    </g>\n",
              "</svg>\n",
              "  </button>\n",
              "\n",
              "<style>\n",
              "  .colab-df-quickchart {\n",
              "      --bg-color: #E8F0FE;\n",
              "      --fill-color: #1967D2;\n",
              "      --hover-bg-color: #E2EBFA;\n",
              "      --hover-fill-color: #174EA6;\n",
              "      --disabled-fill-color: #AAA;\n",
              "      --disabled-bg-color: #DDD;\n",
              "  }\n",
              "\n",
              "  [theme=dark] .colab-df-quickchart {\n",
              "      --bg-color: #3B4455;\n",
              "      --fill-color: #D2E3FC;\n",
              "      --hover-bg-color: #434B5C;\n",
              "      --hover-fill-color: #FFFFFF;\n",
              "      --disabled-bg-color: #3B4455;\n",
              "      --disabled-fill-color: #666;\n",
              "  }\n",
              "\n",
              "  .colab-df-quickchart {\n",
              "    background-color: var(--bg-color);\n",
              "    border: none;\n",
              "    border-radius: 50%;\n",
              "    cursor: pointer;\n",
              "    display: none;\n",
              "    fill: var(--fill-color);\n",
              "    height: 32px;\n",
              "    padding: 0;\n",
              "    width: 32px;\n",
              "  }\n",
              "\n",
              "  .colab-df-quickchart:hover {\n",
              "    background-color: var(--hover-bg-color);\n",
              "    box-shadow: 0 1px 2px rgba(60, 64, 67, 0.3), 0 1px 3px 1px rgba(60, 64, 67, 0.15);\n",
              "    fill: var(--button-hover-fill-color);\n",
              "  }\n",
              "\n",
              "  .colab-df-quickchart-complete:disabled,\n",
              "  .colab-df-quickchart-complete:disabled:hover {\n",
              "    background-color: var(--disabled-bg-color);\n",
              "    fill: var(--disabled-fill-color);\n",
              "    box-shadow: none;\n",
              "  }\n",
              "\n",
              "  .colab-df-spinner {\n",
              "    border: 2px solid var(--fill-color);\n",
              "    border-color: transparent;\n",
              "    border-bottom-color: var(--fill-color);\n",
              "    animation:\n",
              "      spin 1s steps(1) infinite;\n",
              "  }\n",
              "\n",
              "  @keyframes spin {\n",
              "    0% {\n",
              "      border-color: transparent;\n",
              "      border-bottom-color: var(--fill-color);\n",
              "      border-left-color: var(--fill-color);\n",
              "    }\n",
              "    20% {\n",
              "      border-color: transparent;\n",
              "      border-left-color: var(--fill-color);\n",
              "      border-top-color: var(--fill-color);\n",
              "    }\n",
              "    30% {\n",
              "      border-color: transparent;\n",
              "      border-left-color: var(--fill-color);\n",
              "      border-top-color: var(--fill-color);\n",
              "      border-right-color: var(--fill-color);\n",
              "    }\n",
              "    40% {\n",
              "      border-color: transparent;\n",
              "      border-right-color: var(--fill-color);\n",
              "      border-top-color: var(--fill-color);\n",
              "    }\n",
              "    60% {\n",
              "      border-color: transparent;\n",
              "      border-right-color: var(--fill-color);\n",
              "    }\n",
              "    80% {\n",
              "      border-color: transparent;\n",
              "      border-right-color: var(--fill-color);\n",
              "      border-bottom-color: var(--fill-color);\n",
              "    }\n",
              "    90% {\n",
              "      border-color: transparent;\n",
              "      border-bottom-color: var(--fill-color);\n",
              "    }\n",
              "  }\n",
              "</style>\n",
              "\n",
              "  <script>\n",
              "    async function quickchart(key) {\n",
              "      const quickchartButtonEl =\n",
              "        document.querySelector('#' + key + ' button');\n",
              "      quickchartButtonEl.disabled = true;  // To prevent multiple clicks.\n",
              "      quickchartButtonEl.classList.add('colab-df-spinner');\n",
              "      try {\n",
              "        const charts = await google.colab.kernel.invokeFunction(\n",
              "            'suggestCharts', [key], {});\n",
              "      } catch (error) {\n",
              "        console.error('Error during call to suggestCharts:', error);\n",
              "      }\n",
              "      quickchartButtonEl.classList.remove('colab-df-spinner');\n",
              "      quickchartButtonEl.classList.add('colab-df-quickchart-complete');\n",
              "    }\n",
              "    (() => {\n",
              "      let quickchartButtonEl =\n",
              "        document.querySelector('#df-fc334d0c-cba3-4625-a584-c0d7f3a5921a button');\n",
              "      quickchartButtonEl.style.display =\n",
              "        google.colab.kernel.accessAllowed ? 'block' : 'none';\n",
              "    })();\n",
              "  </script>\n",
              "</div>\n",
              "\n",
              "  <div id=\"id_e2c314be-69cd-499e-9b73-4342f4de5b0a\">\n",
              "    <style>\n",
              "      .colab-df-generate {\n",
              "        background-color: #E8F0FE;\n",
              "        border: none;\n",
              "        border-radius: 50%;\n",
              "        cursor: pointer;\n",
              "        display: none;\n",
              "        fill: #1967D2;\n",
              "        height: 32px;\n",
              "        padding: 0 0 0 0;\n",
              "        width: 32px;\n",
              "      }\n",
              "\n",
              "      .colab-df-generate:hover {\n",
              "        background-color: #E2EBFA;\n",
              "        box-shadow: 0px 1px 2px rgba(60, 64, 67, 0.3), 0px 1px 3px 1px rgba(60, 64, 67, 0.15);\n",
              "        fill: #174EA6;\n",
              "      }\n",
              "\n",
              "      [theme=dark] .colab-df-generate {\n",
              "        background-color: #3B4455;\n",
              "        fill: #D2E3FC;\n",
              "      }\n",
              "\n",
              "      [theme=dark] .colab-df-generate:hover {\n",
              "        background-color: #434B5C;\n",
              "        box-shadow: 0px 1px 3px 1px rgba(0, 0, 0, 0.15);\n",
              "        filter: drop-shadow(0px 1px 2px rgba(0, 0, 0, 0.3));\n",
              "        fill: #FFFFFF;\n",
              "      }\n",
              "    </style>\n",
              "    <button class=\"colab-df-generate\" onclick=\"generateWithVariable('data')\"\n",
              "            title=\"Generate code using this dataframe.\"\n",
              "            style=\"display:none;\">\n",
              "\n",
              "  <svg xmlns=\"http://www.w3.org/2000/svg\" height=\"24px\"viewBox=\"0 0 24 24\"\n",
              "       width=\"24px\">\n",
              "    <path d=\"M7,19H8.4L18.45,9,17,7.55,7,17.6ZM5,21V16.75L18.45,3.32a2,2,0,0,1,2.83,0l1.4,1.43a1.91,1.91,0,0,1,.58,1.4,1.91,1.91,0,0,1-.58,1.4L9.25,21ZM18.45,9,17,7.55Zm-12,3A5.31,5.31,0,0,0,4.9,8.1,5.31,5.31,0,0,0,1,6.5,5.31,5.31,0,0,0,4.9,4.9,5.31,5.31,0,0,0,6.5,1,5.31,5.31,0,0,0,8.1,4.9,5.31,5.31,0,0,0,12,6.5,5.46,5.46,0,0,0,6.5,12Z\"/>\n",
              "  </svg>\n",
              "    </button>\n",
              "    <script>\n",
              "      (() => {\n",
              "      const buttonEl =\n",
              "        document.querySelector('#id_e2c314be-69cd-499e-9b73-4342f4de5b0a button.colab-df-generate');\n",
              "      buttonEl.style.display =\n",
              "        google.colab.kernel.accessAllowed ? 'block' : 'none';\n",
              "\n",
              "      buttonEl.onclick = () => {\n",
              "        google.colab.notebook.generateWithVariable('data');\n",
              "      }\n",
              "      })();\n",
              "    </script>\n",
              "  </div>\n",
              "\n",
              "    </div>\n",
              "  </div>\n"
            ],
            "application/vnd.google.colaboratory.intrinsic+json": {
              "type": "dataframe",
              "variable_name": "data"
            }
          },
          "metadata": {},
          "execution_count": 6
        }
      ],
      "source": [
        "# Membaca dataset dari URL\n",
        "file_url = \"https://raw.githubusercontent.com/sergiohalim/data_mining-/refs/heads/main/Sample%20-%20Superstore.csv\"\n",
        "data = pd.read_csv(file_url)\n",
        "data"
      ]
    },
    {
      "cell_type": "code",
      "execution_count": 7,
      "metadata": {
        "colab": {
          "base_uri": "https://localhost:8080/",
          "height": 760
        },
        "id": "X_Oz77Ck2XrQ",
        "outputId": "b0cfbc4e-fbce-4a49-9c00-89e76c997c63"
      },
      "outputs": [
        {
          "output_type": "stream",
          "name": "stdout",
          "text": [
            "Jumlah Missing Values per Kolom:\n"
          ]
        },
        {
          "output_type": "execute_result",
          "data": {
            "text/plain": [
              "Row ID            0\n",
              "Order ID          0\n",
              "Order Date        0\n",
              "Ship Date         0\n",
              "Ship Mode         0\n",
              "Customer ID       0\n",
              "Customer Name     0\n",
              "Segment           0\n",
              "Country/Region    0\n",
              "City              0\n",
              "State/Province    0\n",
              "Postal Code       0\n",
              "Region            0\n",
              "Product ID        0\n",
              "Category          0\n",
              "Sub-Category      0\n",
              "Product Name      0\n",
              "Sales             0\n",
              "Quantity          0\n",
              "Discount          0\n",
              "Profit            0\n",
              "dtype: int64"
            ],
            "text/html": [
              "<div>\n",
              "<style scoped>\n",
              "    .dataframe tbody tr th:only-of-type {\n",
              "        vertical-align: middle;\n",
              "    }\n",
              "\n",
              "    .dataframe tbody tr th {\n",
              "        vertical-align: top;\n",
              "    }\n",
              "\n",
              "    .dataframe thead th {\n",
              "        text-align: right;\n",
              "    }\n",
              "</style>\n",
              "<table border=\"1\" class=\"dataframe\">\n",
              "  <thead>\n",
              "    <tr style=\"text-align: right;\">\n",
              "      <th></th>\n",
              "      <th>0</th>\n",
              "    </tr>\n",
              "  </thead>\n",
              "  <tbody>\n",
              "    <tr>\n",
              "      <th>Row ID</th>\n",
              "      <td>0</td>\n",
              "    </tr>\n",
              "    <tr>\n",
              "      <th>Order ID</th>\n",
              "      <td>0</td>\n",
              "    </tr>\n",
              "    <tr>\n",
              "      <th>Order Date</th>\n",
              "      <td>0</td>\n",
              "    </tr>\n",
              "    <tr>\n",
              "      <th>Ship Date</th>\n",
              "      <td>0</td>\n",
              "    </tr>\n",
              "    <tr>\n",
              "      <th>Ship Mode</th>\n",
              "      <td>0</td>\n",
              "    </tr>\n",
              "    <tr>\n",
              "      <th>Customer ID</th>\n",
              "      <td>0</td>\n",
              "    </tr>\n",
              "    <tr>\n",
              "      <th>Customer Name</th>\n",
              "      <td>0</td>\n",
              "    </tr>\n",
              "    <tr>\n",
              "      <th>Segment</th>\n",
              "      <td>0</td>\n",
              "    </tr>\n",
              "    <tr>\n",
              "      <th>Country/Region</th>\n",
              "      <td>0</td>\n",
              "    </tr>\n",
              "    <tr>\n",
              "      <th>City</th>\n",
              "      <td>0</td>\n",
              "    </tr>\n",
              "    <tr>\n",
              "      <th>State/Province</th>\n",
              "      <td>0</td>\n",
              "    </tr>\n",
              "    <tr>\n",
              "      <th>Postal Code</th>\n",
              "      <td>0</td>\n",
              "    </tr>\n",
              "    <tr>\n",
              "      <th>Region</th>\n",
              "      <td>0</td>\n",
              "    </tr>\n",
              "    <tr>\n",
              "      <th>Product ID</th>\n",
              "      <td>0</td>\n",
              "    </tr>\n",
              "    <tr>\n",
              "      <th>Category</th>\n",
              "      <td>0</td>\n",
              "    </tr>\n",
              "    <tr>\n",
              "      <th>Sub-Category</th>\n",
              "      <td>0</td>\n",
              "    </tr>\n",
              "    <tr>\n",
              "      <th>Product Name</th>\n",
              "      <td>0</td>\n",
              "    </tr>\n",
              "    <tr>\n",
              "      <th>Sales</th>\n",
              "      <td>0</td>\n",
              "    </tr>\n",
              "    <tr>\n",
              "      <th>Quantity</th>\n",
              "      <td>0</td>\n",
              "    </tr>\n",
              "    <tr>\n",
              "      <th>Discount</th>\n",
              "      <td>0</td>\n",
              "    </tr>\n",
              "    <tr>\n",
              "      <th>Profit</th>\n",
              "      <td>0</td>\n",
              "    </tr>\n",
              "  </tbody>\n",
              "</table>\n",
              "</div><br><label><b>dtype:</b> int64</label>"
            ]
          },
          "metadata": {},
          "execution_count": 7
        }
      ],
      "source": [
        "# 1. Identifikasi Missing Values\n",
        "print(\"Jumlah Missing Values per Kolom:\")\n",
        "data.isnull().sum()"
      ]
    },
    {
      "cell_type": "code",
      "execution_count": 8,
      "metadata": {
        "id": "nSq14BPD2eZ-"
      },
      "outputs": [],
      "source": [
        "# Menangani Missing Values (misalnya, mengganti dengan median untuk kolom numerik)\n",
        "data.fillna(data.median(numeric_only=True), inplace=True)"
      ]
    },
    {
      "cell_type": "code",
      "execution_count": 9,
      "metadata": {
        "colab": {
          "base_uri": "https://localhost:8080/"
        },
        "id": "12MiysQP2hIV",
        "outputId": "bf276bc7-a1e9-4c37-98f6-f83f86c5ab49"
      },
      "outputs": [
        {
          "output_type": "stream",
          "name": "stdout",
          "text": [
            "\n",
            "Jumlah Duplikasi Sebelum Penghapusan: 0\n",
            "Jumlah Duplikasi Setelah Penghapusan: 0\n"
          ]
        }
      ],
      "source": [
        "# 2. Penghapusan Duplikasi\n",
        "print(\"\\nJumlah Duplikasi Sebelum Penghapusan:\", data.duplicated().sum())\n",
        "data = data.drop_duplicates()\n",
        "print(\"Jumlah Duplikasi Setelah Penghapusan:\", data.duplicated().sum())\n"
      ]
    },
    {
      "cell_type": "code",
      "execution_count": 10,
      "metadata": {
        "id": "cP4T8GDR2oFv"
      },
      "outputs": [],
      "source": [
        "# 3. Penanganan Outliers\n",
        "# Menerapkan Z-score untuk mendeteksi outliers pada kolom numerik\n",
        "numeric_columns = data.select_dtypes(include=[np.number]).columns\n",
        "z_scores = data[numeric_columns].apply(zscore)"
      ]
    },
    {
      "cell_type": "code",
      "execution_count": 12,
      "metadata": {
        "colab": {
          "base_uri": "https://localhost:8080/"
        },
        "id": "2MnDQs7Y2uwY",
        "outputId": "5041cb21-4378-420a-fe09-3340d7c91a51"
      },
      "outputs": [
        {
          "output_type": "stream",
          "name": "stdout",
          "text": [
            "\n",
            "Jumlah Baris Outliers: 561\n"
          ]
        }
      ],
      "source": [
        "# Menentukan threshold untuk z-score (misalnya, 3)\n",
        "threshold = 3\n",
        "outliers = (z_scores.abs() > threshold).any(axis=1)\n",
        "print(\"\\nJumlah Baris Outliers:\", outliers.sum())\n"
      ]
    },
    {
      "cell_type": "code",
      "execution_count": 13,
      "metadata": {
        "colab": {
          "base_uri": "https://localhost:8080/"
        },
        "id": "ER54lPj82xqv",
        "outputId": "5f7512d5-a476-406a-dcc9-05e21399b8d2"
      },
      "outputs": [
        {
          "output_type": "stream",
          "name": "stdout",
          "text": [
            "\n",
            "Dataset Setelah Membersihkan Missing Values, Duplikasi, dan Outliers:\n",
            "<class 'pandas.core.frame.DataFrame'>\n",
            "Index: 9633 entries, 0 to 10193\n",
            "Data columns (total 21 columns):\n",
            " #   Column          Non-Null Count  Dtype  \n",
            "---  ------          --------------  -----  \n",
            " 0   Row ID          9633 non-null   int64  \n",
            " 1   Order ID        9633 non-null   object \n",
            " 2   Order Date      9633 non-null   object \n",
            " 3   Ship Date       9633 non-null   object \n",
            " 4   Ship Mode       9633 non-null   object \n",
            " 5   Customer ID     9633 non-null   object \n",
            " 6   Customer Name   9633 non-null   object \n",
            " 7   Segment         9633 non-null   object \n",
            " 8   Country/Region  9633 non-null   object \n",
            " 9   City            9633 non-null   object \n",
            " 10  State/Province  9633 non-null   object \n",
            " 11  Postal Code     9633 non-null   object \n",
            " 12  Region          9633 non-null   object \n",
            " 13  Product ID      9633 non-null   object \n",
            " 14  Category        9633 non-null   object \n",
            " 15  Sub-Category    9633 non-null   object \n",
            " 16  Product Name    9633 non-null   object \n",
            " 17  Sales           9633 non-null   float64\n",
            " 18  Quantity        9633 non-null   int64  \n",
            " 19  Discount        9633 non-null   float64\n",
            " 20  Profit          9633 non-null   float64\n",
            "dtypes: float64(3), int64(2), object(16)\n",
            "memory usage: 1.6+ MB\n"
          ]
        }
      ],
      "source": [
        "# Menghapus outliers\n",
        "data_cleaned = data[~outliers]\n",
        "\n",
        "print(\"\\nDataset Setelah Membersihkan Missing Values, Duplikasi, dan Outliers:\")\n",
        "data_cleaned.info()"
      ]
    },
    {
      "cell_type": "code",
      "execution_count": 14,
      "metadata": {
        "id": "DLnvye3I26f6"
      },
      "outputs": [],
      "source": [
        "# Menyimpan dataset yang sudah dibersihkan (opsional)\n",
        "data_cleaned.to_csv(\"cleaned_superstore.csv\", index=False)\n"
      ]
    },
    {
      "cell_type": "code",
      "execution_count": 15,
      "metadata": {
        "colab": {
          "base_uri": "https://localhost:8080/"
        },
        "id": "10mvFBn62-Ty",
        "outputId": "0522b12a-40f4-44be-cbeb-a0d0227080c4"
      },
      "outputs": [
        {
          "output_type": "stream",
          "name": "stderr",
          "text": [
            "<ipython-input-15-b876ad799837>:3: SettingWithCopyWarning: \n",
            "A value is trying to be set on a copy of a slice from a DataFrame.\n",
            "Try using .loc[row_indexer,col_indexer] = value instead\n",
            "\n",
            "See the caveats in the documentation: https://pandas.pydata.org/pandas-docs/stable/user_guide/indexing.html#returning-a-view-versus-a-copy\n",
            "  data_cleaned['Order Date'] = pd.to_datetime(data_cleaned['Order Date'], errors='coerce')\n",
            "<ipython-input-15-b876ad799837>:4: SettingWithCopyWarning: \n",
            "A value is trying to be set on a copy of a slice from a DataFrame.\n",
            "Try using .loc[row_indexer,col_indexer] = value instead\n",
            "\n",
            "See the caveats in the documentation: https://pandas.pydata.org/pandas-docs/stable/user_guide/indexing.html#returning-a-view-versus-a-copy\n",
            "  data_cleaned['Ship Date'] = pd.to_datetime(data_cleaned['Ship Date'], errors='coerce')\n"
          ]
        }
      ],
      "source": [
        "# Data Preparation\n",
        "# Format kolom tanggal menjadi datetime\n",
        "data_cleaned['Order Date'] = pd.to_datetime(data_cleaned['Order Date'], errors='coerce')\n",
        "data_cleaned['Ship Date'] = pd.to_datetime(data_cleaned['Ship Date'], errors='coerce')\n"
      ]
    },
    {
      "cell_type": "code",
      "execution_count": 16,
      "metadata": {
        "colab": {
          "base_uri": "https://localhost:8080/"
        },
        "id": "-e81ziTK3By6",
        "outputId": "e5a21bb6-9850-470e-ae12-22cc427dd154"
      },
      "outputs": [
        {
          "output_type": "stream",
          "name": "stderr",
          "text": [
            "<ipython-input-16-8bafd69b31af>:4: SettingWithCopyWarning: \n",
            "A value is trying to be set on a copy of a slice from a DataFrame.\n",
            "Try using .loc[row_indexer,col_indexer] = value instead\n",
            "\n",
            "See the caveats in the documentation: https://pandas.pydata.org/pandas-docs/stable/user_guide/indexing.html#returning-a-view-versus-a-copy\n",
            "  data_cleaned[col] = pd.to_numeric(data_cleaned[col], errors='coerce')\n",
            "<ipython-input-16-8bafd69b31af>:7: SettingWithCopyWarning: \n",
            "A value is trying to be set on a copy of a slice from a DataFrame.\n",
            "Try using .loc[row_indexer,col_indexer] = value instead\n",
            "\n",
            "See the caveats in the documentation: https://pandas.pydata.org/pandas-docs/stable/user_guide/indexing.html#returning-a-view-versus-a-copy\n",
            "  data_cleaned['Segment'] = data_cleaned['Segment'].astype('category')\n",
            "<ipython-input-16-8bafd69b31af>:16: SettingWithCopyWarning: \n",
            "A value is trying to be set on a copy of a slice from a DataFrame.\n",
            "Try using .loc[row_indexer,col_indexer] = value instead\n",
            "\n",
            "See the caveats in the documentation: https://pandas.pydata.org/pandas-docs/stable/user_guide/indexing.html#returning-a-view-versus-a-copy\n",
            "  data_cleaned['Ship Mode'] = data_cleaned['Ship Mode'].map(ship_mode_mapping)\n"
          ]
        }
      ],
      "source": [
        "# Format kolom angka menjadi numerik\n",
        "numeric_columns = ['Sales', 'Quantity', 'Discount', 'Profit']\n",
        "for col in numeric_columns:\n",
        "    data_cleaned[col] = pd.to_numeric(data_cleaned[col], errors='coerce')\n",
        "\n",
        "# Mapping tipe data kategori\n",
        "data_cleaned['Segment'] = data_cleaned['Segment'].astype('category')\n",
        "\n",
        "# Mapping kategori pada kolom 'Ship Mode'\n",
        "ship_mode_mapping = {\n",
        "    'First Class': 1,\n",
        "    'Second Class': 2,\n",
        "    'Standard Class': 3,\n",
        "    'Same Day': 4\n",
        "}\n",
        "data_cleaned['Ship Mode'] = data_cleaned['Ship Mode'].map(ship_mode_mapping)\n"
      ]
    },
    {
      "cell_type": "code",
      "execution_count": 17,
      "metadata": {
        "colab": {
          "base_uri": "https://localhost:8080/",
          "height": 777
        },
        "id": "dFVmH9fJ3Hs0",
        "outputId": "ed1c903f-bc9c-4d8a-dfa6-45e2a28fb83f"
      },
      "outputs": [
        {
          "output_type": "stream",
          "name": "stdout",
          "text": [
            "\n",
            "Jumlah Missing Values Setelah Transformasi:\n"
          ]
        },
        {
          "output_type": "execute_result",
          "data": {
            "text/plain": [
              "Row ID               0\n",
              "Order ID             0\n",
              "Order Date        5721\n",
              "Ship Date         5852\n",
              "Ship Mode            0\n",
              "Customer ID          0\n",
              "Customer Name        0\n",
              "Segment              0\n",
              "Country/Region       0\n",
              "City                 0\n",
              "State/Province       0\n",
              "Postal Code          0\n",
              "Region               0\n",
              "Product ID           0\n",
              "Category             0\n",
              "Sub-Category         0\n",
              "Product Name         0\n",
              "Sales                0\n",
              "Quantity             0\n",
              "Discount             0\n",
              "Profit               0\n",
              "dtype: int64"
            ],
            "text/html": [
              "<div>\n",
              "<style scoped>\n",
              "    .dataframe tbody tr th:only-of-type {\n",
              "        vertical-align: middle;\n",
              "    }\n",
              "\n",
              "    .dataframe tbody tr th {\n",
              "        vertical-align: top;\n",
              "    }\n",
              "\n",
              "    .dataframe thead th {\n",
              "        text-align: right;\n",
              "    }\n",
              "</style>\n",
              "<table border=\"1\" class=\"dataframe\">\n",
              "  <thead>\n",
              "    <tr style=\"text-align: right;\">\n",
              "      <th></th>\n",
              "      <th>0</th>\n",
              "    </tr>\n",
              "  </thead>\n",
              "  <tbody>\n",
              "    <tr>\n",
              "      <th>Row ID</th>\n",
              "      <td>0</td>\n",
              "    </tr>\n",
              "    <tr>\n",
              "      <th>Order ID</th>\n",
              "      <td>0</td>\n",
              "    </tr>\n",
              "    <tr>\n",
              "      <th>Order Date</th>\n",
              "      <td>5721</td>\n",
              "    </tr>\n",
              "    <tr>\n",
              "      <th>Ship Date</th>\n",
              "      <td>5852</td>\n",
              "    </tr>\n",
              "    <tr>\n",
              "      <th>Ship Mode</th>\n",
              "      <td>0</td>\n",
              "    </tr>\n",
              "    <tr>\n",
              "      <th>Customer ID</th>\n",
              "      <td>0</td>\n",
              "    </tr>\n",
              "    <tr>\n",
              "      <th>Customer Name</th>\n",
              "      <td>0</td>\n",
              "    </tr>\n",
              "    <tr>\n",
              "      <th>Segment</th>\n",
              "      <td>0</td>\n",
              "    </tr>\n",
              "    <tr>\n",
              "      <th>Country/Region</th>\n",
              "      <td>0</td>\n",
              "    </tr>\n",
              "    <tr>\n",
              "      <th>City</th>\n",
              "      <td>0</td>\n",
              "    </tr>\n",
              "    <tr>\n",
              "      <th>State/Province</th>\n",
              "      <td>0</td>\n",
              "    </tr>\n",
              "    <tr>\n",
              "      <th>Postal Code</th>\n",
              "      <td>0</td>\n",
              "    </tr>\n",
              "    <tr>\n",
              "      <th>Region</th>\n",
              "      <td>0</td>\n",
              "    </tr>\n",
              "    <tr>\n",
              "      <th>Product ID</th>\n",
              "      <td>0</td>\n",
              "    </tr>\n",
              "    <tr>\n",
              "      <th>Category</th>\n",
              "      <td>0</td>\n",
              "    </tr>\n",
              "    <tr>\n",
              "      <th>Sub-Category</th>\n",
              "      <td>0</td>\n",
              "    </tr>\n",
              "    <tr>\n",
              "      <th>Product Name</th>\n",
              "      <td>0</td>\n",
              "    </tr>\n",
              "    <tr>\n",
              "      <th>Sales</th>\n",
              "      <td>0</td>\n",
              "    </tr>\n",
              "    <tr>\n",
              "      <th>Quantity</th>\n",
              "      <td>0</td>\n",
              "    </tr>\n",
              "    <tr>\n",
              "      <th>Discount</th>\n",
              "      <td>0</td>\n",
              "    </tr>\n",
              "    <tr>\n",
              "      <th>Profit</th>\n",
              "      <td>0</td>\n",
              "    </tr>\n",
              "  </tbody>\n",
              "</table>\n",
              "</div><br><label><b>dtype:</b> int64</label>"
            ]
          },
          "metadata": {},
          "execution_count": 17
        }
      ],
      "source": [
        "# Pastikan tidak ada nilai yang hilang setelah transformasi\n",
        "print(\"\\nJumlah Missing Values Setelah Transformasi:\")\n",
        "data_cleaned.isnull().sum()\n",
        "\n"
      ]
    },
    {
      "cell_type": "code",
      "execution_count": 18,
      "metadata": {
        "colab": {
          "base_uri": "https://localhost:8080/"
        },
        "id": "clcahSmM3TDb",
        "outputId": "6d2da709-52a0-4347-cda5-88ba8b409b89"
      },
      "outputs": [
        {
          "output_type": "stream",
          "name": "stdout",
          "text": [
            "\n",
            "Dataset Setelah Data Preparation:\n",
            "<class 'pandas.core.frame.DataFrame'>\n",
            "Index: 9633 entries, 0 to 10193\n",
            "Data columns (total 21 columns):\n",
            " #   Column          Non-Null Count  Dtype         \n",
            "---  ------          --------------  -----         \n",
            " 0   Row ID          9633 non-null   int64         \n",
            " 1   Order ID        9633 non-null   object        \n",
            " 2   Order Date      3912 non-null   datetime64[ns]\n",
            " 3   Ship Date       3781 non-null   datetime64[ns]\n",
            " 4   Ship Mode       9633 non-null   int64         \n",
            " 5   Customer ID     9633 non-null   object        \n",
            " 6   Customer Name   9633 non-null   object        \n",
            " 7   Segment         9633 non-null   category      \n",
            " 8   Country/Region  9633 non-null   object        \n",
            " 9   City            9633 non-null   object        \n",
            " 10  State/Province  9633 non-null   object        \n",
            " 11  Postal Code     9633 non-null   object        \n",
            " 12  Region          9633 non-null   object        \n",
            " 13  Product ID      9633 non-null   object        \n",
            " 14  Category        9633 non-null   object        \n",
            " 15  Sub-Category    9633 non-null   object        \n",
            " 16  Product Name    9633 non-null   object        \n",
            " 17  Sales           9633 non-null   float64       \n",
            " 18  Quantity        9633 non-null   int64         \n",
            " 19  Discount        9633 non-null   float64       \n",
            " 20  Profit          9633 non-null   float64       \n",
            "dtypes: category(1), datetime64[ns](2), float64(3), int64(3), object(12)\n",
            "memory usage: 1.6+ MB\n"
          ]
        }
      ],
      "source": [
        "# Dataset setelah preparation\n",
        "print(\"\\nDataset Setelah Data Preparation:\")\n",
        "data_cleaned.info()\n"
      ]
    },
    {
      "cell_type": "markdown",
      "metadata": {
        "id": "CVxZGVo7elwh"
      },
      "source": [
        "# Meta Data"
      ]
    },
    {
      "cell_type": "markdown",
      "metadata": {
        "id": "2ae59gilelwj"
      },
      "source": [
        "Row ID\n",
        "Deskripsi: Nomor baris unik untuk setiap catatan dalam dataset.\n",
        "Tipe Data: Integer\n",
        "\n",
        "\n",
        "Order ID\n",
        "Deskripsi: Identifikasi unik untuk setiap pesanan.\n",
        "Tipe Data: String\n",
        "\n",
        "Order Date\n",
        "Deskripsi: Tanggal ketika pesanan dibuat.\n",
        "Tipe Data: Date\n",
        "Format: YYYY-MM-DD\n",
        "\n",
        "Ship Date\n",
        "Deskripsi: Tanggal pengiriman pesanan.\n",
        "Tipe Data: Date\n",
        "Format: YYYY-MM-DD\n",
        "\n",
        "Ship Mode\n",
        "Deskripsi: Metode pengiriman pesanan.\n",
        "Tipe Data: String\n",
        "\n",
        "Customer ID\n",
        "Deskripsi: Identifikasi unik pelanggan.\n",
        "Tipe Data: String\n",
        "\n",
        "Customer Name\n",
        "Deskripsi: Nama pelanggan yang melakukan pesanan.\n",
        "Tipe Data: String\n",
        "\n",
        "Segment\n",
        "Deskripsi: Segmen pasar tempat pelanggan berada.\n",
        "Tipe Data: String\n",
        "\n",
        "Country/Region\n",
        "Deskripsi: Negara atau wilayah tempat pesanan dilakukan.\n",
        "Tipe Data: String\n",
        "\n",
        "\n",
        "City\n",
        "Deskripsi: Kota tujuan pengiriman pesanan.\n",
        "Tipe Data: String\n",
        "\n",
        "\n",
        "State/Province\n",
        "Deskripsi: Negara bagian atau provinsi tujuan pengiriman.\n",
        "Tipe Data: String\n",
        "\n",
        "\n",
        "Postal Code\n",
        "Deskripsi: Kode pos tujuan pengiriman.\n",
        "Tipe Data: Integer/String\n",
        "\n",
        "\n",
        "Region\n",
        "Deskripsi: Wilayah geografis tempat pesanan diklasifikasikan.\n",
        "Tipe Data: String\n",
        "\n",
        "Product ID\n",
        "Deskripsi: Identifikasi unik produk yang dipesan.\n",
        "Tipe Data: String\n",
        "\n",
        "Category\n",
        "Deskripsi: Kategori produk.\n",
        "Tipe Data: String\n",
        "\n",
        "\n",
        "Sub-Category\n",
        "Deskripsi: Subkategori produk.\n",
        "Tipe Data: String\n",
        "\n",
        "\n",
        "Product Name\n",
        "Deskripsi: Nama produk yang dipesan.\n",
        "Tipe Data: String\n",
        "\n",
        "Sales\n",
        "Deskripsi: Total penjualan dari produk tertentu.\n",
        "Tipe Data: Float\n",
        "\n",
        "Quantity\n",
        "Deskripsi: Jumlah unit produk yang dipesan.\n",
        "Tipe Data: Integer\n",
        "\n",
        "\n",
        "Discount\n",
        "Deskripsi: Diskon yang diterapkan pada pesanan.\n",
        "Tipe Data: Float\n",
        "\n",
        "Profit\n",
        "Deskripsi: Keuntungan yang diperoleh dari pesanan.\n",
        "Tipe Data: Float\n"
      ]
    },
    {
      "cell_type": "markdown",
      "metadata": {
        "id": "uDi1Tb-55jZy"
      },
      "source": [
        "### Exploratory Data Analysis (EDA)"
      ]
    },
    {
      "cell_type": "code",
      "execution_count": 19,
      "metadata": {
        "colab": {
          "base_uri": "https://localhost:8080/"
        },
        "id": "dzzOpifF3Wqj",
        "outputId": "3eb51aca-3596-467f-a458-82d6306257f9"
      },
      "outputs": [
        {
          "output_type": "stream",
          "name": "stderr",
          "text": [
            "<ipython-input-19-f00061e7b8c4>:4: SettingWithCopyWarning: \n",
            "A value is trying to be set on a copy of a slice from a DataFrame.\n",
            "Try using .loc[row_indexer,col_indexer] = value instead\n",
            "\n",
            "See the caveats in the documentation: https://pandas.pydata.org/pandas-docs/stable/user_guide/indexing.html#returning-a-view-versus-a-copy\n",
            "  data_cleaned['Ship Mode'] = data_cleaned['Ship Mode'].map(ship_mode_mapping)\n"
          ]
        }
      ],
      "source": [
        "# Exploratory Data Analysis (EDA)\n",
        "# Convert Ship Mode to numeric categories\n",
        "ship_mode_mapping = {'First Class': 1, 'Second Class': 2, 'Standard Class': 3, 'Same Day': 4}\n",
        "data_cleaned['Ship Mode'] = data_cleaned['Ship Mode'].map(ship_mode_mapping)\n"
      ]
    },
    {
      "cell_type": "code",
      "execution_count": 20,
      "metadata": {
        "colab": {
          "base_uri": "https://localhost:8080/",
          "height": 1000
        },
        "id": "HJ-6EKbf3lU3",
        "outputId": "df6688e0-f8df-4d15-9d51-fc3754d880a2"
      },
      "outputs": [
        {
          "output_type": "display_data",
          "data": {
            "text/plain": [
              "<Figure size 800x500 with 1 Axes>"
            ],
            "image/png": "[encoded data removed]"
          },
          "metadata": {}
        },
        {
          "output_type": "display_data",
          "data": {
            "text/plain": [
              "<Figure size 800x500 with 1 Axes>"
            ],
            "image/png": "[encoded data removed]"
          },
          "metadata": {}
        },
        {
          "output_type": "display_data",
          "data": {
            "text/plain": [
              "<Figure size 800x500 with 1 Axes>"
            ],
            "image/png": "[encoded data removed]"
          },
          "metadata": {}
        },
        {
          "output_type": "display_data",
          "data": {
            "text/plain": [
              "<Figure size 800x500 with 1 Axes>"
            ],
            "image/png": "[encoded data removed]"
          },
          "metadata": {}
        }
      ],
      "source": [
        "# Columns for analysis\n",
        "numeric_columns = ['Sales', 'Quantity', 'Discount', 'Profit']\n",
        "# Histogram for numeric data distribution\n",
        "for col in numeric_columns:\n",
        "    plt.figure(figsize=(8, 5))\n",
        "    sns.histplot(data_cleaned[col], kde=True, bins=30)\n",
        "    plt.title(f'Distribusi {col}')\n",
        "    plt.xlabel(col)\n",
        "    plt.ylabel('Frekuensi')\n",
        "    plt.show()\n"
      ]
    },
    {
      "cell_type": "code",
      "execution_count": 21,
      "metadata": {
        "colab": {
          "base_uri": "https://localhost:8080/",
          "height": 1000
        },
        "id": "RxUsp1eK3uPW",
        "outputId": "eddf1173-7412-40f8-d73d-52daddb4b4c0"
      },
      "outputs": [
        {
          "output_type": "display_data",
          "data": {
            "text/plain": [
              "<Figure size 800x500 with 1 Axes>"
            ],
            "image/png": "[encoded data removed]"
          },
          "metadata": {}
        },
        {
          "output_type": "display_data",
          "data": {
            "text/plain": [
              "<Figure size 800x500 with 1 Axes>"
            ],
            "image/png": "[encoded data removed]"
          },
          "metadata": {}
        },
        {
          "output_type": "display_data",
          "data": {
            "text/plain": [
              "<Figure size 800x500 with 1 Axes>"
            ],
            "image/png": "[encoded data removed]"
          },
          "metadata": {}
        },
        {
          "output_type": "display_data",
          "data": {
            "text/plain": [
              "<Figure size 800x500 with 1 Axes>"
            ],
            "image/png": "[encoded data removed]"
          },
          "metadata": {}
        }
      ],
      "source": [
        "# Boxplot for outliers in numeric data\n",
        "for col in numeric_columns:\n",
        "    plt.figure(figsize=(8, 5))\n",
        "    sns.boxplot(data=data_cleaned[col])\n",
        "    plt.title(f'Boxplot {col}')\n",
        "    plt.xlabel(col)\n",
        "    plt.show()"
      ]
    },
    {
      "cell_type": "markdown",
      "metadata": {
        "id": "X8eTbbRJ6MsC"
      },
      "source": [
        "###  Correlation matrix for numeric variables"
      ]
    },
    {
      "cell_type": "code",
      "execution_count": 22,
      "metadata": {
        "colab": {
          "base_uri": "https://localhost:8080/",
          "height": 699
        },
        "id": "-Y94fJQF3_FP",
        "outputId": "5bf76e84-91e4-4d16-9fdd-6a94b7d868ca"
      },
      "outputs": [
        {
          "output_type": "display_data",
          "data": {
            "text/plain": [
              "<Figure size 1000x800 with 2 Axes>"
            ],
            "image/png": "[encoded data removed]"
          },
          "metadata": {}
        }
      ],
      "source": [
        "# Correlation matrix for numeric variables\n",
        "plt.figure(figsize=(10, 8))\n",
        "correlation_matrix = data_cleaned[numeric_columns].corr()\n",
        "sns.heatmap(correlation_matrix, annot=True, cmap='coolwarm', fmt='.2f')\n",
        "plt.title('Matriks Korelasi Antar Variabel Numerik')\n",
        "plt.show()"
      ]
    },
    {
      "cell_type": "code",
      "execution_count": 23,
      "metadata": {
        "colab": {
          "base_uri": "https://localhost:8080/",
          "height": 596
        },
        "id": "fwWoNk0K4FpH",
        "outputId": "e22531d7-e518-4ec2-b53c-bde661b3bd16"
      },
      "outputs": [
        {
          "output_type": "display_data",
          "data": {
            "text/plain": [
              "<Figure size 1000x600 with 1 Axes>"
            ],
            "image/png": "[encoded data removed]"
          },
          "metadata": {}
        }
      ],
      "source": [
        "# Sales trends by region\n",
        "plt.figure(figsize=(10, 6))\n",
        "region_sales = data_cleaned.groupby('Region')['Sales'].sum().sort_values()\n",
        "sns.barplot(x=region_sales.index, y=region_sales.values)\n",
        "plt.title('Total Penjualan Berdasarkan Wilayah')\n",
        "plt.xlabel('Wilayah')\n",
        "plt.ylabel('Total Penjualan')\n",
        "plt.xticks(rotation=45)\n",
        "plt.show()"
      ]
    },
    {
      "cell_type": "code",
      "execution_count": 24,
      "metadata": {
        "colab": {
          "base_uri": "https://localhost:8080/",
          "height": 633
        },
        "id": "FPawrwH54IwJ",
        "outputId": "00278338-7366-441e-f599-7b1418f1a351"
      },
      "outputs": [
        {
          "output_type": "display_data",
          "data": {
            "text/plain": [
              "<Figure size 1000x600 with 1 Axes>"
            ],
            "image/png": "[encoded data removed]"
          },
          "metadata": {}
        }
      ],
      "source": [
        "# Profit trends by product category\n",
        "plt.figure(figsize=(10, 6))\n",
        "category_profit = data_cleaned.groupby('Category')['Profit'].sum().sort_values()\n",
        "sns.barplot(x=category_profit.index, y=category_profit.values)\n",
        "plt.title('Keuntungan Berdasarkan Kategori Produk')\n",
        "plt.xlabel('Kategori Produk')\n",
        "plt.ylabel('Total Keuntungan')\n",
        "plt.xticks(rotation=45)\n",
        "plt.show()"
      ]
    },
    {
      "cell_type": "code",
      "execution_count": 25,
      "metadata": {
        "colab": {
          "base_uri": "https://localhost:8080/"
        },
        "id": "iGx7QkCj4Kq4",
        "outputId": "21a24bd6-3234-4814-9bfd-459c612001fc"
      },
      "outputs": [
        {
          "output_type": "stream",
          "name": "stdout",
          "text": [
            "\n",
            "Dataset Setelah Feature Engineering:\n",
            "   Row ID        Order ID Order Date  Ship Date  Ship Mode Customer ID  \\\n",
            "0       1  US-2021-103800 2021-03-01 2021-07-01        NaN    DP-13000   \n",
            "2       3  US-2021-112326 2021-04-01 2021-08-01        NaN    PO-19195   \n",
            "3       4  US-2021-112326 2021-04-01 2021-08-01        NaN    PO-19195   \n",
            "4       5  US-2021-141817 2021-05-01 2021-12-01        NaN    MB-18085   \n",
            "6       7  US-2021-167199 2021-06-01 2021-10-01        NaN    ME-17320   \n",
            "\n",
            "   Customer Name  Segment Country/Region          City  ... Postal Code  \\\n",
            "0  Darren Powers        0  United States       Houston  ...       77095   \n",
            "2  Phillina Ober        2  United States    Naperville  ...       60540   \n",
            "3  Phillina Ober        2  United States    Naperville  ...       60540   \n",
            "4     Mick Brown        0  United States  Philadelphia  ...       19143   \n",
            "6  Maria Etezadi        2  United States     Henderson  ...       42420   \n",
            "\n",
            "  Region       Product ID Category  Sub-Category  \\\n",
            "0      0  OFF-PA-10000174        1            12   \n",
            "2      0  OFF-LA-10003223        1            10   \n",
            "3      0  OFF-ST-10002743        1            14   \n",
            "4      1  OFF-AR-10003478        1             2   \n",
            "6      2  OFF-AR-10001662        1             2   \n",
            "\n",
            "                                        Product Name     Sales  Quantity  \\\n",
            "0  Message Book, Wirebound, Four 5 1/2\" X 4\" Form... -0.550584 -0.821827   \n",
            "2                                          Avery 508 -0.566590 -0.325702   \n",
            "3                      SAFCO Boltless Steel Shelving  0.328987 -0.325702   \n",
            "4  Avery Hi-Liter EverBold Pen Style Fluorescent ... -0.539986 -0.325702   \n",
            "6            Rogers Handheld Barrel Pencil Sharpener -0.588226 -0.821827   \n",
            "\n",
            "   Discount    Profit  \n",
            "0  0.369059 -0.216227  \n",
            "2  0.369059 -0.232161  \n",
            "3  0.369059 -1.091986  \n",
            "4  0.369059 -0.224536  \n",
            "6 -0.774387 -0.266930  \n",
            "\n",
            "[5 rows x 21 columns]\n"
          ]
        },
        {
          "output_type": "stream",
          "name": "stderr",
          "text": [
            "<ipython-input-25-7394ca9f62eb>:10: SettingWithCopyWarning: \n",
            "A value is trying to be set on a copy of a slice from a DataFrame.\n",
            "Try using .loc[row_indexer,col_indexer] = value instead\n",
            "\n",
            "See the caveats in the documentation: https://pandas.pydata.org/pandas-docs/stable/user_guide/indexing.html#returning-a-view-versus-a-copy\n",
            "  data_cleaned[col] = le.fit_transform(data_cleaned[col])\n",
            "<ipython-input-25-7394ca9f62eb>:10: SettingWithCopyWarning: \n",
            "A value is trying to be set on a copy of a slice from a DataFrame.\n",
            "Try using .loc[row_indexer,col_indexer] = value instead\n",
            "\n",
            "See the caveats in the documentation: https://pandas.pydata.org/pandas-docs/stable/user_guide/indexing.html#returning-a-view-versus-a-copy\n",
            "  data_cleaned[col] = le.fit_transform(data_cleaned[col])\n",
            "<ipython-input-25-7394ca9f62eb>:10: SettingWithCopyWarning: \n",
            "A value is trying to be set on a copy of a slice from a DataFrame.\n",
            "Try using .loc[row_indexer,col_indexer] = value instead\n",
            "\n",
            "See the caveats in the documentation: https://pandas.pydata.org/pandas-docs/stable/user_guide/indexing.html#returning-a-view-versus-a-copy\n",
            "  data_cleaned[col] = le.fit_transform(data_cleaned[col])\n",
            "<ipython-input-25-7394ca9f62eb>:10: SettingWithCopyWarning: \n",
            "A value is trying to be set on a copy of a slice from a DataFrame.\n",
            "Try using .loc[row_indexer,col_indexer] = value instead\n",
            "\n",
            "See the caveats in the documentation: https://pandas.pydata.org/pandas-docs/stable/user_guide/indexing.html#returning-a-view-versus-a-copy\n",
            "  data_cleaned[col] = le.fit_transform(data_cleaned[col])\n",
            "<ipython-input-25-7394ca9f62eb>:16: SettingWithCopyWarning: \n",
            "A value is trying to be set on a copy of a slice from a DataFrame.\n",
            "Try using .loc[row_indexer,col_indexer] = value instead\n",
            "\n",
            "See the caveats in the documentation: https://pandas.pydata.org/pandas-docs/stable/user_guide/indexing.html#returning-a-view-versus-a-copy\n",
            "  data_cleaned[numeric_columns] = scaler.fit_transform(data_cleaned[numeric_columns])\n"
          ]
        }
      ],
      "source": [
        "from sklearn.preprocessing import StandardScaler, MinMaxScaler, LabelEncoder\n",
        "\n",
        "# 4. Feature Engineering\n",
        "\n",
        "# Encoding kolom kategori\n",
        "categorical_columns = ['Region', 'Category', 'Sub-Category', 'Segment']\n",
        "label_encoders = {}\n",
        "for col in categorical_columns:\n",
        "    le = LabelEncoder()\n",
        "    data_cleaned[col] = le.fit_transform(data_cleaned[col])\n",
        "    label_encoders[col] = le  # Simpan encoder untuk referensi jika diperlukan\n",
        "\n",
        "# Standarisasi data numerik\n",
        "scaler = StandardScaler()\n",
        "numeric_columns = ['Sales', 'Quantity', 'Discount', 'Profit']\n",
        "data_cleaned[numeric_columns] = scaler.fit_transform(data_cleaned[numeric_columns])\n",
        "\n",
        "# Normalisasi data numerik (opsional, jika diperlukan sebagai alternatif standarisasi)\n",
        "# scaler_minmax = MinMaxScaler()\n",
        "# data_cleaned[numeric_columns] = scaler_minmax.fit_transform(data_cleaned[numeric_columns])\n",
        "\n",
        "# Menampilkan dataset setelah feature engineering\n",
        "print(\"\\nDataset Setelah Feature Engineering:\")\n",
        "print(data_cleaned.head())\n",
        "\n",
        "# Simpan dataset yang sudah diolah (opsional)\n",
        "data_cleaned.to_csv(\"processed_superstore.csv\", index=False)\n"
      ]
    },
    {
      "cell_type": "code",
      "execution_count": 26,
      "metadata": {
        "colab": {
          "base_uri": "https://localhost:8080/"
        },
        "id": "iMgMqksH4Q3p",
        "outputId": "900e54b8-fcba-41a2-e1eb-bd4c7348cfaf"
      },
      "outputs": [
        {
          "output_type": "stream",
          "name": "stdout",
          "text": [
            "Hasil Evaluasi Model Klasifikasi:\n",
            "              precision    recall  f1-score   support\n",
            "\n",
            "           0       0.54      0.66      0.59      1010\n",
            "           1       0.36      0.29      0.32       591\n",
            "           2       0.18      0.12      0.15       326\n",
            "\n",
            "    accuracy                           0.45      1927\n",
            "   macro avg       0.36      0.36      0.35      1927\n",
            "weighted avg       0.42      0.45      0.43      1927\n",
            "\n",
            "\n",
            "Centroid Clusters:\n",
            "[[-0.28390793 -0.57010412  0.0045205  -0.160241  ]\n",
            " [ 0.0181345   1.24488499  0.08289191 -0.207416  ]\n",
            " [ 2.73447085  0.5764122  -0.38181597  2.4285057 ]]\n",
            "\n",
            "Jumlah anggota setiap cluster:\n",
            "[6368 2621  644]\n"
          ]
        },
        {
          "output_type": "stream",
          "name": "stderr",
          "text": [
            "<ipython-input-26-724124a2a09e>:29: SettingWithCopyWarning: \n",
            "A value is trying to be set on a copy of a slice from a DataFrame.\n",
            "Try using .loc[row_indexer,col_indexer] = value instead\n",
            "\n",
            "See the caveats in the documentation: https://pandas.pydata.org/pandas-docs/stable/user_guide/indexing.html#returning-a-view-versus-a-copy\n",
            "  data_cleaned['Cluster'] = kmeans.fit_predict(X)\n"
          ]
        }
      ],
      "source": [
        "from sklearn.model_selection import train_test_split\n",
        "from sklearn.ensemble import RandomForestClassifier\n",
        "from sklearn.metrics import classification_report\n",
        "from sklearn.cluster import KMeans\n",
        "import numpy as np\n",
        "\n",
        "# 5. Model Prediksi\n",
        "\n",
        "# Model 1: Klasifikasi untuk memprediksi segmentasi pelanggan\n",
        "# Menentukan fitur dan label untuk klasifikasi\n",
        "X = data_cleaned[['Sales', 'Quantity', 'Discount', 'Profit']]\n",
        "y = data_cleaned['Segment']\n",
        "\n",
        "# Membagi data menjadi data latih dan data uji\n",
        "X_train, X_test, y_train, y_test = train_test_split(X, y, test_size=0.2, random_state=42)\n",
        "\n",
        "# Membuat model Random Forest untuk klasifikasi\n",
        "clf = RandomForestClassifier(random_state=42)\n",
        "clf.fit(X_train, y_train)\n",
        "\n",
        "# Evaluasi model\n",
        "y_pred = clf.predict(X_test)\n",
        "print(\"Hasil Evaluasi Model Klasifikasi:\")\n",
        "print(classification_report(y_test, y_pred))\n",
        "\n",
        "# Model 2: Clustering untuk mengelompokkan pelanggan berdasarkan perilaku pembelian\n",
        "# Menjalankan algoritma KMeans\n",
        "kmeans = KMeans(n_clusters=3, random_state=42)\n",
        "data_cleaned['Cluster'] = kmeans.fit_predict(X)\n",
        "\n",
        "# Menampilkan hasil clustering\n",
        "print(\"\\nCentroid Clusters:\")\n",
        "print(kmeans.cluster_centers_)\n",
        "print(\"\\nJumlah anggota setiap cluster:\")\n",
        "print(np.bincount(data_cleaned['Cluster']))\n",
        "\n",
        "# Menyimpan dataset dengan hasil clustering (opsional)\n",
        "data_cleaned.to_csv(\"clustered_superstore.csv\", index=False)\n",
        "\n"
      ]
    },
    {
      "cell_type": "code",
      "source": [
        "\n",
        "X_cluster = data_cleaned[['Sales', 'Quantity', 'Profit']]\n",
        "\n",
        "\n",
        "# Choose k based on above\n",
        "optimal_k = 3\n",
        "kmeans = KMeans(n_clusters=optimal_k, random_state=42, n_init=10)\n",
        "data_cleaned['Cluster'] = kmeans.fit_predict(X_cluster)\n",
        "\n",
        "# 6. Evaluasi Model\n",
        "\n",
        "# Evaluasi Model 1: Klasifikasi\n",
        "accuracy = accuracy_score(y_test, y_pred)\n",
        "print(\"Evaluasi Model Klasifikasi:\")\n",
        "print(f\"Accuracy: {accuracy:.2f}\")\n",
        "\n",
        "# Evaluasi Model 2: Clustering\n",
        "silhouette_avg = silhouette_score(X_cluster, data_cleaned['Cluster']) # use the selected features\n",
        "print(\"\\nEvaluasi Model Clustering:\")\n",
        "print(f\"Silhouette Score: {silhouette_avg:.2f}\")\n",
        "\n",
        "# Bandingkan hasil kedua model\n",
        "print(\"\\nPerbandingan Model:\")\n",
        "print(f\"Model Klasifikasi: Accuracy = {accuracy:.2f}\")\n",
        "print(f\"Model Clustering: Silhouette Score = {silhouette_avg:.2f}\")"
      ],
      "metadata": {
        "colab": {
          "base_uri": "https://localhost:8080/"
        },
        "id": "aHMYrFVkjHTE",
        "outputId": "e948486d-3c21-4a42-ee51-36de739ede6b"
      },
      "execution_count": 36,
      "outputs": [
        {
          "output_type": "stream",
          "name": "stderr",
          "text": [
            "<ipython-input-36-72d8dae7a479>:8: SettingWithCopyWarning: \n",
            "A value is trying to be set on a copy of a slice from a DataFrame.\n",
            "Try using .loc[row_indexer,col_indexer] = value instead\n",
            "\n",
            "See the caveats in the documentation: https://pandas.pydata.org/pandas-docs/stable/user_guide/indexing.html#returning-a-view-versus-a-copy\n",
            "  data_cleaned['Cluster'] = kmeans.fit_predict(X_cluster)\n"
          ]
        },
        {
          "output_type": "stream",
          "name": "stdout",
          "text": [
            "Evaluasi Model Klasifikasi:\n",
            "Accuracy: 0.52\n",
            "\n",
            "Evaluasi Model Clustering:\n",
            "Silhouette Score: 0.47\n",
            "\n",
            "Perbandingan Model:\n",
            "Model Klasifikasi: Accuracy = 0.52\n",
            "Model Clustering: Silhouette Score = 0.47\n"
          ]
        }
      ]
    },
    {
      "cell_type": "markdown",
      "source": [
        "1. Temuan Penting dari Exploratory Data Analysis (EDA):\n",
        "Distribusi Data:\n",
        "\n",
        "Kolom numerik seperti Sales, Quantity, Discount, dan Profit memiliki distribusi yang tidak merata. Sebagian besar transaksi memiliki nilai penjualan dan keuntungan kecil, sementara beberapa outliers menunjukkan transaksi dengan nilai tinggi.\n",
        "Diskon cenderung terkonsentrasi pada nilai-nilai kecil (0-20%).\n",
        "Korelasi Antar Variabel:\n",
        "\n",
        "Sales memiliki korelasi moderat positif dengan Profit (0.45), menunjukkan bahwa peningkatan penjualan cenderung meningkatkan keuntungan.\n",
        "Discount memiliki korelasi negatif dengan Profit (-0.36), yang menunjukkan bahwa diskon besar dapat mengurangi keuntungan.\n",
        "Analisis Wilayah dan Kategori:\n",
        "\n",
        "Wilayah West memiliki total penjualan tertinggi, sementara wilayah South memiliki penjualan terendah.\n",
        "Produk kategori Technology memberikan kontribusi keuntungan terbesar, sedangkan kategori Furniture memberikan keuntungan terendah.\n",
        "2. Temuan Penting dari Model Prediksi:\n",
        "Model 1: Klasifikasi (Segmentasi Pelanggan):\n",
        "\n",
        "Akurasi model adalah 45%, menunjukkan performa yang moderat dalam memprediksi segmentasi pelanggan (Consumer, Corporate, dan Home Office).\n",
        "Precision untuk segmen pelanggan Consumer cukup baik (54%), tetapi lebih rendah untuk segmen lainnya.\n",
        "Model ini memberikan wawasan dasar tentang segmentasi pelanggan, namun perlu ditingkatkan lebih lanjut untuk akurasi yang lebih baik.\n",
        "Model 2: Clustering (Pengelompokan Pelanggan):\n",
        "\n",
        "Menggunakan KMeans, model mengelompokkan pelanggan ke dalam 3 cluster berdasarkan perilaku pembelian (Sales, Quantity, Discount, dan Profit).\n",
        "Nilai Silhouette Score sebesar 0.35 menunjukkan bahwa cluster tidak terlalu terpisah dengan baik. Perilaku pelanggan yang mirip mungkin tumpang tindih antar cluster.\n",
        "3. Bagaimana Model Membantu dalam Pengambilan Keputusan?\n",
        "Model Klasifikasi (Segmentasi Pelanggan):\n",
        "\n",
        "Dapat membantu tim pemasaran dan penjualan untuk mengarahkan promosi atau kampanye berdasarkan segmen pelanggan.\n",
        "Misalnya, model dapat mengidentifikasi pelanggan Corporate dan Home Office yang cenderung membutuhkan pendekatan lebih khusus untuk meningkatkan loyalitas mereka.\n",
        "Model Clustering (Pengelompokan Pelanggan):\n",
        "\n",
        "Membantu perusahaan mengidentifikasi kelompok pelanggan berdasarkan pola pembelian mereka.\n",
        "Misalnya:\n",
        "Cluster dengan Sales dan Profit tinggi dapat diberi penawaran eksklusif untuk meningkatkan retensi.\n",
        "Cluster dengan Discount tinggi tetapi Profit rendah dapat dianalisis untuk mengoptimalkan kebijakan diskon.\n",
        "Hasil EDA:\n",
        "\n",
        "Informasi dari EDA, seperti hubungan negatif antara diskon dan profit, dapat digunakan untuk merancang strategi harga yang lebih optimal."
      ],
      "metadata": {
        "id": "4Y9fkQ2Aj_hC"
      }
    }
  ],
  "metadata": {
    "colab": {
      "provenance": []
    },
    "kernelspec": {
      "display_name": "Python 3 (ipykernel)",
      "language": "python",
      "name": "python3"
    },
    "language_info": {
      "codemirror_mode": {
        "name": "ipython",
        "version": 3
      },
      "file_extension": ".py",
      "mimetype": "text/x-python",
      "name": "python",
      "nbconvert_exporter": "python",
      "pygments_lexer": "ipython3",
      "version": "3.11.4"
    }
  },
  "nbformat": 4,
  "nbformat_minor": 0
}